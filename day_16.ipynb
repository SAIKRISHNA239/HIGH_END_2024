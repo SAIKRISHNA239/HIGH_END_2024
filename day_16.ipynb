{
 "cells": [
  {
   "cell_type": "code",
   "execution_count": 27,
   "id": "6a059bd1-21f4-4990-8ad5-2a336171d98c",
   "metadata": {},
   "outputs": [
    {
     "name": "stdin",
     "output_type": "stream",
     "text": [
      " 1 school\n",
      " 1 world\n",
      " 1 word\n",
      " 1 school\n",
      " 2 word\n",
      " 2 wood\n",
      " 3 sch\n",
      " 4 word\n"
     ]
    },
    {
     "name": "stdout",
     "output_type": "stream",
     "text": [
      "True\n",
      "False\n",
      "2 True\n",
      "['school', 'world', 'school']\n"
     ]
    }
   ],
   "source": [
    "n=8\n",
    "lst=[]\n",
    "for x in range(n):\n",
    "    que=input().split()\n",
    "    lst.append(que)\n",
    "x=[]\n",
    "y=[]\n",
    "for i in lst:\n",
    "    if i[0]=='1':\n",
    "        x.append(i[1])\n",
    "    elif i[0]=='2':\n",
    "        temp=False\n",
    "        for j in lst:\n",
    "            if j[0]=='1' and j[1]==i[1]:\n",
    "                temp=True\n",
    "                break\n",
    "        if temp:\n",
    "            print(\"True\")\n",
    "        else:\n",
    "            print(\"False\")\n",
    "    elif i[0]=='3':\n",
    "        c=0\n",
    "        for j in lst:\n",
    "            if j[1].startswith(i[1]) and j!=i: \n",
    "                c+=1\n",
    "        if c>0:\n",
    "            print(c,\"True\")\n",
    "        else:\n",
    "            print(\"False\")\n",
    "    elif i[0]=='4':\n",
    "        if i[1] in x:\n",
    "            x.remove(i[1])\n",
    "\n",
    "print(x)\n"
   ]
  },
  {
   "cell_type": "code",
   "execution_count": 7,
   "id": "88679f1b-ea0b-4a5b-a011-698fae68b4f9",
   "metadata": {},
   "outputs": [
    {
     "name": "stdin",
     "output_type": "stream",
     "text": [
      " 8\n",
      " 1 schoo;\n",
      " 1 word\n",
      " 1 world\n",
      " 1 scholar\n",
      " 2 word\n",
      " 2 wood\n",
      " 3 sch\n",
      " 4 word\n"
     ]
    },
    {
     "name": "stdout",
     "output_type": "stream",
     "text": [
      "True\n",
      "false\n",
      "True\n",
      "True\n",
      "['schoo;', 'world', 'scholar']\n"
     ]
    }
   ],
   "source": [
    "n=int(input())\n",
    "lst=[]\n",
    "for i in range(n):\n",
    "    qu=input().split()\n",
    "    lst.append(qu)\n",
    "x=[]\n",
    "for i in lst:\n",
    "    if i[0]==\"1\":\n",
    "        x.append(i[1])\n",
    "    elif i[0]==\"2\":\n",
    "        flag=False\n",
    "        for j in lst:\n",
    "            if j[0]==\"1\" and j[1]==i[1]:\n",
    "                flag=True\n",
    "                break\n",
    "        if flag:\n",
    "            print(\"True\")\n",
    "        else:\n",
    "            print(\"false\")\n",
    "       \n",
    "            \n",
    "          \n",
    "    elif i[0]==\"3\":\n",
    "        flag=False\n",
    "        for j in lst:\n",
    "            if not  j[1].startswith(i[1]):\n",
    "                flag=False\n",
    "        flag=True\n",
    "        if flag:\n",
    "            print(\"True\")\n",
    "       \n",
    "        else:\n",
    "            print(\"false\")\n",
    "    elif i[0]==\"4\":\n",
    "        if i[1] in x:\n",
    "            x.remove(i[1])\n",
    "\n",
    "print(x)"
   ]
  },
  {
   "cell_type": "code",
   "execution_count": null,
   "id": "b5c73331-e38f-4813-82b6-0614e111d80c",
   "metadata": {},
   "outputs": [],
   "source": []
  },
  {
   "cell_type": "markdown",
   "id": "c278c060-4be5-484d-96a1-d907749e83d2",
   "metadata": {},
   "source": [
    "<h1>Trie</h1>"
   ]
  },
  {
   "cell_type": "markdown",
   "id": "2e5769d0-b5ee-48fd-90f4-f5fff72368be",
   "metadata": {},
   "source": [
    "<img src=\"https://miro.medium.com/v2/resize:fit:828/format:webp/0*fyC68Zd3w8pUDphM.png\">"
   ]
  },
  {
   "cell_type": "code",
   "execution_count": null,
   "id": "5230db31-e6e2-47c9-8c8e-3112d8cea02b",
   "metadata": {},
   "outputs": [],
   "source": []
  },
  {
   "cell_type": "code",
   "execution_count": null,
   "id": "42d79352-dd17-4a85-9a92-b0c17765ab2f",
   "metadata": {},
   "outputs": [],
   "source": []
  },
  {
   "cell_type": "code",
   "execution_count": 50,
   "id": "f07a911c-a854-4dd7-9705-bace69b6bb59",
   "metadata": {},
   "outputs": [
    {
     "name": "stdout",
     "output_type": "stream",
     "text": [
      "True\n",
      "False\n",
      "['wood', 'world', 'wrapper']\n",
      "sch\n"
     ]
    }
   ],
   "source": [
    "class Node:\n",
    "    def __init__(self):\n",
    "        self.d = {}\n",
    "        self.flag = 0\n",
    "        self.c={}\n",
    "class Tries:\n",
    "    def __init__(self):\n",
    "        self.root = Node()\n",
    "\n",
    "    def insert(self, s):\n",
    "        temp = self.root\n",
    "        for i in s:\n",
    "            if i not in temp.d:\n",
    "                temp.d[i] = Node()\n",
    "            temp = temp.d[i]\n",
    "        temp.flag=1 \n",
    "\n",
    "    def search(self,s):\n",
    "        temp=self.root\n",
    "        for i in s:\n",
    "            if i not in temp.d:\n",
    "                return False\n",
    "            temp=temp.d[i]\n",
    "        return temp.flag == 1\n",
    "    def prefix(self,s):\n",
    "        temp=self.root\n",
    "        for i in s:\n",
    "            if i not in temp.d:\n",
    "                return False\n",
    "            temp=temp.d[i]\n",
    "        return True\n",
    "\n",
    "\n",
    "    def auto_gen(self, s):\n",
    "        lst=[]\n",
    "        t=self.root\n",
    "        for i in s:\n",
    "            if i in t.d:\n",
    "                t=t.d[i]\n",
    "            else:\n",
    "                return lst  \n",
    "        self.dfs(t,s,lst)\n",
    "        return lst\n",
    "\n",
    "    def dfs(self,t,pr,lst):\n",
    "        if t.flag==1:\n",
    "            lst.append(pr)\n",
    "        for i, val in t.d.items():\n",
    "            self.dfs(val,pr+i,lst)\n",
    "\n",
    "   \n",
    "\n",
    "    # def max_word(self, lst):\n",
    "    #     mx=0\n",
    "    #     mxw=\"\"\n",
    "    #     for prefix in lst:\n",
    "    #         x=self.dfs2(self.root, prefix, prefix)\n",
    "    #         for i in x:\n",
    "    #             if len(i)>mx:\n",
    "    #                 mx=len(i)\n",
    "    #                 mxw=i\n",
    "    #                 y=prefix\n",
    "    #     return y\n",
    "    # def dfs2(self,t,prefix,curr):\n",
    "    #     lst2=[]\n",
    "    #     if t.flag==1:\n",
    "    #         lst2.append(curr)\n",
    "    #     for i,val in t.d.items():\n",
    "    #         lst2.extend(self.dfs2(val,prefix,curr+i))\n",
    "    #     return lst2\n",
    "    \n",
    "obj = Tries()\n",
    "obj.insert(\"wood\")\n",
    "obj.insert(\"world\")\n",
    "obj.insert(\"wrapper\")\n",
    "obj.insert(\"school\")\n",
    "obj.insert(\"scholars\")\n",
    "obj.insert(\"app\")\n",
    "obj.insert(\"apricot\")\n",
    "\n",
    "\n",
    "print(obj.search(\"wood\"))\n",
    "print(obj.prefix(\"won\"))\n",
    "\n",
    "print(obj.auto_gen(\"w\"))\n",
    "\n",
    "\n",
    "print(obj.max_word([\"ap\",\"wo\",\"sch\"]))\n",
    "# n=int(input())\n",
    "# for i in range(n):\n",
    "#     a,s=input().split(\" \")\n",
    "#     if a=='1':\n",
    "#         obj.insert(s)\n",
    "#     elif a=='2':\n",
    "#         print(obj.search(s))\n",
    "#     elif a=='3':\n",
    "#         print(obj.prefix(s))\n",
    "#     elif a==\"4\":\n",
    "#         print(obj.auto_gen(s))\n",
    "#     elif a==\"5\":\n",
    "#         print(obj.max_prefix([\"wo\",\"ap\",\"sch\"]))\n",
    "    "
   ]
  },
  {
   "cell_type": "code",
   "execution_count": null,
   "id": "359db9d5-6c5c-4f8e-9953-7598605a7e78",
   "metadata": {},
   "outputs": [],
   "source": []
  },
  {
   "cell_type": "code",
   "execution_count": null,
   "id": "baaf75bd-e366-46c9-a3f9-ae4275e83cd3",
   "metadata": {},
   "outputs": [],
   "source": []
  }
 ],
 "metadata": {
  "kernelspec": {
   "display_name": "Python 3 (ipykernel)",
   "language": "python",
   "name": "python3"
  },
  "language_info": {
   "codemirror_mode": {
    "name": "ipython",
    "version": 3
   },
   "file_extension": ".py",
   "mimetype": "text/x-python",
   "name": "python",
   "nbconvert_exporter": "python",
   "pygments_lexer": "ipython3",
   "version": "3.12.1"
  }
 },
 "nbformat": 4,
 "nbformat_minor": 5
}
