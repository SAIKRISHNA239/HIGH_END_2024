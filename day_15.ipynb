{
 "cells": [
  {
   "cell_type": "code",
   "execution_count": null,
   "id": "dc9b3beb-4e60-44a5-b4a4-45ad2f06c263",
   "metadata": {},
   "outputs": [],
   "source": []
  },
  {
   "cell_type": "code",
   "execution_count": 16,
   "id": "b3f069e5-b70f-4bfc-a87d-6e9bfa8e6966",
   "metadata": {},
   "outputs": [
    {
     "name": "stdout",
     "output_type": "stream",
     "text": [
      "1 0 0 0 0 0 0 0\n",
      "0 0 0 0 1 0 0 0\n",
      "0 0 0 0 0 0 0 1\n",
      "0 0 0 0 0 1 0 0\n",
      "0 0 1 0 0 0 0 0\n",
      "0 0 0 0 0 0 1 0\n",
      "0 1 0 0 0 0 0 0\n",
      "0 0 0 1 0 0 0 0\n"
     ]
    }
   ],
   "source": [
    "# 8 queen\n",
    "def is_safe(board, row, col):\n",
    "    for i in range(row):\n",
    "        if board[i][col] == 1:\n",
    "            return False\n",
    "    for i, j in zip(range(row, -1, -1), range(col, -1, -1)):\n",
    "        if board[i][j] == 1:\n",
    "            return False\n",
    "    for i, j in zip(range(row, -1, -1), range(col, len(board))):\n",
    "        if board[i][j] == 1:\n",
    "            return False\n",
    "    return True\n",
    "def solve_n_queens(board, row):\n",
    "    if row >= len(board):\n",
    "        return True\n",
    "    for col in range(len(board)):\n",
    "        if is_safe(board, row, col):\n",
    "            board[row][col] = 1\n",
    "            if solve_n_queens(board, row + 1):\n",
    "                return True\n",
    "            board[row][col] = 0\n",
    "    return False\n",
    "def print_solution(board):\n",
    "    for row in board:\n",
    "        print(' '.join(map(str, row)))\n",
    "\n",
    "def eight_queens():\n",
    "    n = 8\n",
    "    board = [[0] * n for _ in range(n)]\n",
    "    if solve_n_queens(board, 0):\n",
    "        print_solution(board)\n",
    "    else:\n",
    "        print(\"no soln.\")\n",
    "eight_queens()"
   ]
  },
  {
   "cell_type": "code",
   "execution_count": 14,
   "id": "4040f501-92a6-42ba-95ea-916e5cf0d2fd",
   "metadata": {},
   "outputs": [
    {
     "name": "stdout",
     "output_type": "stream",
     "text": [
      "[]\n"
     ]
    }
   ],
   "source": [
    "def queen(n):\n",
    "    board=[[\".\"]*n for i in range(n)]\n",
    "    lst=[]\n",
    "    v_cols=set()\n",
    "    v_diag=set()\n",
    "    v_diag2=set()\n",
    "    def backtrack(board,row):\n",
    "        if row==n:\n",
    "            lst.append([\"\".join(i) for i in board])\n",
    "            return\n",
    "        for col in range(n):\n",
    "            bd=row-col\n",
    "            fd=row+col\n",
    "            if not (col in v_cols or bd in v_diag or fd in v_diag2):\n",
    "                v_cols.add(col)\n",
    "                v_diag.add(bd)\n",
    "                v_diag2.add(fd)\n",
    "                board[row][col]=\"Q\"\n",
    "                backtrack(board,row+1)\n",
    "                v_cols.remove(col)\n",
    "                v_diag.remove(bd)\n",
    "                v_diag2.remove(fd)\n",
    "                board[row][col]=\".\"\n",
    "    backtrack(board,0)\n",
    "    return lst\n",
    "x=queen(2)\n",
    "print(x)"
   ]
  },
  {
   "cell_type": "code",
   "execution_count": 8,
   "id": "e69ba0be-296d-4821-bf05-7664ba5da2b1",
   "metadata": {},
   "outputs": [
    {
     "name": "stdout",
     "output_type": "stream",
     "text": [
      "[[1, 0, 0, 0, 0, 0, 0, 0], [0, 0, 0, 0, 0, 0, 0, 0], [0, 1, 0, 0, 0, 0, 0, 0], [0, 0, 0, 0, 1, 0, 0, 0], [0, 0, 1, 0, 0, 0, 0, 0], [0, 0, 0, 0, 0, 0, 0, 1], [0, 0, 0, 0, 0, 0, 0, 0], [0, 0, 0, 0, 0, 0, 0, 0]]\n",
      "5\n"
     ]
    }
   ],
   "source": [
    "def nqueen(r):\n",
    "    if(r==n):\n",
    "        return\n",
    "    for c in range(n):\n",
    "        if(check(r,c)):\n",
    "            m[r][c]=1\n",
    "            break\n",
    "    return nqueen(r+1)\n",
    "def check(i,j):\n",
    "    if(i==u):\n",
    "        return 0\n",
    "    elif(j==v):\n",
    "        return 0\n",
    "    r=i\n",
    "    c=j\n",
    "    for i in range(r+1):\n",
    "        if(m[i][j]==1):\n",
    "            return 0\n",
    "    i=r\n",
    "    while(i>=0 and j>=0):\n",
    "        if(m[i][j]==1):\n",
    "            return 0\n",
    "        i=i-1\n",
    "        j=j-1\n",
    "    while(r>=0 and c<n):\n",
    "        if(m[r][c]==1):\n",
    "            return 0\n",
    "        r=r-1\n",
    "        c=c+1\n",
    "    return 1\n",
    "    \n",
    "n=8\n",
    "u=1\n",
    "v=3\n",
    "m=[]\n",
    "s=0\n",
    "for i in range(n):\n",
    "    m.append([0]*n)\n",
    "nqueen(0)\n",
    "print(m)\n",
    "for row in m:\n",
    "    s+=sum(row)\n",
    "print(s)"
   ]
  },
  {
   "cell_type": "code",
   "execution_count": 17,
   "id": "f8d15d17-1f12-4850-8962-4c4cd44fb5a1",
   "metadata": {},
   "outputs": [
    {
     "name": "stdout",
     "output_type": "stream",
     "text": [
      "{9, 10, 3, 5}\n",
      "{10}\n"
     ]
    }
   ],
   "source": [
    "lst=[3,5,9,6,8,10]\n",
    "l=[0]*len(lst)\n",
    "r=[0]*len(lst)\n",
    "m=0\n",
    "m1=0\n",
    "s=0\n",
    "for i in range(len(lst)):\n",
    "  if lst[i]>m:\n",
    "    m=lst[i]\n",
    "  l[i]=m\n",
    "for i in range(len(lst)-1,-1,-1):\n",
    "  if lst[i]>m1:\n",
    "    m1=lst[i]\n",
    "  r[i]=m1\n",
    "\n",
    "print(set(l))\n",
    "print(set(r))"
   ]
  },
  {
   "cell_type": "code",
   "execution_count": 91,
   "id": "bf9dc66e-e859-4d26-8959-d0a97b305342",
   "metadata": {},
   "outputs": [
    {
     "name": "stdout",
     "output_type": "stream",
     "text": [
      "True\n"
     ]
    }
   ],
   "source": [
    "def sum(lst,tar):\n",
    "    def goback(start,curr):\n",
    "        if curr==tar:\n",
    "            return True\n",
    "        if curr>tar or start==len(lst):\n",
    "            return False        \n",
    "        if goback(start+1,curr+lst[start]):\n",
    "            return True        \n",
    "        if goback(start+1,curr):\n",
    "            return True\n",
    "        return False\n",
    "    return goback(0,0)\n",
    "lst=[2,3,5,6]\n",
    "tar=11\n",
    "print(sum(lst,tar)) "
   ]
  },
  {
   "cell_type": "code",
   "execution_count": 100,
   "id": "1ef1ce4d-3176-4e00-8129-1e25615031c8",
   "metadata": {},
   "outputs": [
    {
     "data": {
      "text/plain": [
       "False"
      ]
     },
     "execution_count": 100,
     "metadata": {},
     "output_type": "execute_result"
    }
   ],
   "source": [
    "def sebset(nums,n,tar):\n",
    "    if tar==0:\n",
    "        return True\n",
    "    if n==0:\n",
    "        return False\n",
    "    if nums[n-1]>tar:\n",
    "        return sebset(nums,n-1,tar)\n",
    "    return sebset(nums,n-1,tar) or sebset(nums,n-1,tar-nums[n-1])\n",
    "nums=[2,3,5]\n",
    "tar=11\n",
    "n=len(nums)\n",
    "sebset(nums,n,tar)\n"
   ]
  },
  {
   "cell_type": "code",
   "execution_count": 146,
   "id": "2df89b19-275b-4030-9d2b-f2d64ce31665",
   "metadata": {},
   "outputs": [
    {
     "name": "stdout",
     "output_type": "stream",
     "text": [
      "1\n"
     ]
    }
   ],
   "source": [
    "def subset(lst, target_sum):\n",
    "    n=len(lst)\n",
    "    l=[[0]*(tar+1) for i in range(n+1)]    \n",
    "    for i in range(n+1):\n",
    "        l[i][0]=1    \n",
    "    for i in range(1,n+1):\n",
    "        for j in range(1,tar+1):\n",
    "            if lst[i-1]>j:\n",
    "                l[i][j]=l[i-1][j]\n",
    "            else:\n",
    "                if l[i-1][j]==1:\n",
    "                    l[i][j]=1\n",
    "                elif l[i-1][j-lst[i-1]] == 1:\n",
    "                    l[i][j] = 1\n",
    "                else:\n",
    "                    l[i][j] = 0\n",
    "    return l[n][tar]\n",
    "lst=[2,3,5,6]\n",
    "tar=7\n",
    "print(subset(lst,tar))"
   ]
  },
  {
   "cell_type": "code",
   "execution_count": 21,
   "id": "cf503c82-c640-4003-905c-7ec9e3c85d11",
   "metadata": {},
   "outputs": [
    {
     "name": "stdout",
     "output_type": "stream",
     "text": [
      "865312\n"
     ]
    }
   ],
   "source": [
    "s1=\"tu5g2k1h8\"\n",
    "s2=\"g5g8gd6h3\"\n",
    "\n",
    "x=set()\n",
    "for i in s1:\n",
    "    if i.isdigit():\n",
    "        x.add(i)\n",
    "for i in s2:\n",
    "    if i.isdigit():\n",
    "        x.add(i)\n",
    "lst=list(x)\n",
    "lst.sort()\n",
    "es=0\n",
    "for i in lst:\n",
    "    if int(i)%2==0:\n",
    "        es=i\n",
    "        lst.remove(i)\n",
    "        break\n",
    "ans=\"\"\n",
    "for i in range(len(lst)-1,-1,-1):\n",
    "    ans+=lst[i]\n",
    "ans+=es\n",
    "print(ans)\n",
    "        "
   ]
  },
  {
   "cell_type": "code",
   "execution_count": 133,
   "id": "f9a1c278-60e2-4bca-94c8-98890b59164c",
   "metadata": {},
   "outputs": [
    {
     "name": "stdout",
     "output_type": "stream",
     "text": [
      "865312\n"
     ]
    }
   ],
   "source": [
    "from itertools import permutations\n",
    "z=\"238165\"\n",
    "ans=permutations(z)\n",
    "ev=0\n",
    "for i in ans:\n",
    "    n=''.join(i)    \n",
    "    if int(n)%2==0:\n",
    "        if int(n)>int(ev):\n",
    "            ev=n\n",
    "print(ev)"
   ]
  },
  {
   "cell_type": "code",
   "execution_count": 144,
   "id": "973d7e9b-1610-40f6-95ce-30cb6e4f52a1",
   "metadata": {},
   "outputs": [
    {
     "name": "stdout",
     "output_type": "stream",
     "text": [
      "865312\n"
     ]
    }
   ],
   "source": [
    "s1=\"tu5g2k1h8\"\n",
    "s2=\"g5g8gd6h3\"\n",
    "\n",
    "x=set()\n",
    "for i in s1:\n",
    "    if i.isdigit():\n",
    "        x.add(i)\n",
    "for i in s2:\n",
    "    if i.isdigit():\n",
    "        x.add(i)\n",
    "lst=list(sorted(x,reverse=True))\n",
    "if int(lst[-1])%2==0:\n",
    "    print(\"\".join(lst))\n",
    "else:\n",
    "    for i in range(len(lst)-2,-1,-1):\n",
    "        if int(lst[i])%2==0:\n",
    "            lst.append(lst.pop(i))\n",
    "            print(\"\".join(lst))\n",
    "            break\n",
    "    else:\n",
    "        print(-1)"
   ]
  },
  {
   "cell_type": "code",
   "execution_count": 151,
   "id": "34913de3-66fa-4d00-b2a2-6570c17c3371",
   "metadata": {},
   "outputs": [
    {
     "name": "stdout",
     "output_type": "stream",
     "text": [
      "7667\n"
     ]
    }
   ],
   "source": [
    "def is_palin(n):\n",
    "    n=str(n)\n",
    "    return n==n[::-1]\n",
    "n=7654\n",
    "if is_palin(n):\n",
    "    print(n)\n",
    "else:\n",
    "    nx=n+1\n",
    "    while True:\n",
    "        if is_palin(nx):\n",
    "            print(nx)\n",
    "            break\n",
    "        nx+=1\n",
    "        "
   ]
  },
  {
   "cell_type": "code",
   "execution_count": 193,
   "id": "ece023d8-40e4-4b93-baa4-ad28577a731a",
   "metadata": {},
   "outputs": [
    {
     "name": "stdout",
     "output_type": "stream",
     "text": [
      "1331\n"
     ]
    }
   ],
   "source": [
    "n=1234\n",
    "n=str(n)\n",
    "y=len(n)//2\n",
    "x=n[:y]\n",
    "y=x[::-1]\n",
    "z=x+y\n",
    "z=int(z)\n",
    "z\n",
    "if z>int(n):\n",
    "    print(n)\n",
    "else:\n",
    "    x=int(x)\n",
    "    x+=1\n",
    "    a=str(x)[::-1]\n",
    "    b=str(x)+a\n",
    "    print(b)"
   ]
  },
  {
   "cell_type": "code",
   "execution_count": 198,
   "id": "1fb80dcc-843c-4e0c-84b4-329fbf3286e8",
   "metadata": {},
   "outputs": [
    {
     "name": "stdout",
     "output_type": "stream",
     "text": [
      "bdb\n"
     ]
    }
   ],
   "source": [
    "def palin(s):\n",
    "    start,end=0,0\n",
    "    for i in range(len(s)):\n",
    "        len1=fun(s,i,i)\n",
    "        len2=fun(s,i,i+1)\n",
    "        mx=max(len1,len2)\n",
    "        if mx>end-start:\n",
    "            start=i-(mx-1)//2\n",
    "            end=i+mx//2\n",
    "    return s[start:end+1]\n",
    "def fun(s,l,r):\n",
    "    while l>=0 and r<len(s) and s[l]==s[r]:\n",
    "        l-=1\n",
    "        r+=1\n",
    "    return r-l-1\n",
    "s=\"abdbsdabca\"\n",
    "print(palin(s)) "
   ]
  },
  {
   "cell_type": "code",
   "execution_count": null,
   "id": "3d8d8825-2df5-47be-8f86-3a1e7fd87a33",
   "metadata": {},
   "outputs": [],
   "source": [
    "def queens(row):\n",
    "    if row==n:\n",
    "        return \n",
    "    for col in range(n):\n",
    "        if chk(row,col):\n",
    "            m[row][col]=1\n",
    "            break\n",
    "    queens(row+1)\n",
    "\n",
    "def chk(i,j):\n",
    "    if i==u: return 0\n",
    "    elif j==v: return 0\n",
    "    r=i\n",
    "    c=j\n",
    "    for i in range(r+1):\n",
    "        if m[i][j]==1:\n",
    "            return 0\n",
    "    i=r\n",
    "    while i>=0 and j>=0:\n",
    "        if m[i][j]==1:\n",
    "            return 0\n",
    "        i-=1\n",
    "        j-=1\n",
    "    while r>=0 and j<n:\n",
    "        if m[i][j]==1:\n",
    "            return 0\n",
    "        \n",
    "    \n",
    "        \n",
    "        \n",
    "        \n",
    "n=8\n",
    "u=1\n",
    "v=4\n",
    "s=0\n",
    "m=[]\n",
    "for i in range(n):\n",
    "    m.append([0]*n)\n",
    "x=queens(0)\n",
    "for i in x:\n",
    "    s+=sum(i)\n",
    "print(s)"
   ]
  },
  {
   "cell_type": "code",
   "execution_count": null,
   "id": "6f09f986-7f43-42ad-b67f-acf97a4b89be",
   "metadata": {},
   "outputs": [],
   "source": []
  },
  {
   "cell_type": "code",
   "execution_count": null,
   "id": "9ad92404-c6e8-46ff-9dfe-a0c1c3752182",
   "metadata": {},
   "outputs": [],
   "source": []
  },
  {
   "cell_type": "markdown",
   "id": "8d9742c5-7f38-4457-bdf7-4cb9802365d2",
   "metadata": {},
   "source": []
  },
  {
   "cell_type": "markdown",
   "id": "0f6a9579-9025-4098-944c-bae8aee3fe75",
   "metadata": {},
   "source": []
  },
  {
   "cell_type": "markdown",
   "id": "2d76c635-84c5-4538-9bb4-e5d4cc0f32b0",
   "metadata": {},
   "source": []
  },
  {
   "cell_type": "markdown",
   "id": "bc63b47c-06bf-49f2-92e7-341d9201d945",
   "metadata": {},
   "source": []
  },
  {
   "cell_type": "code",
   "execution_count": null,
   "id": "e9cc317a-5e21-4d25-a0ec-7cd6437059f3",
   "metadata": {},
   "outputs": [],
   "source": []
  },
  {
   "cell_type": "code",
   "execution_count": null,
   "id": "2e3141df-7698-4685-82b9-177cb9cf9544",
   "metadata": {},
   "outputs": [],
   "source": []
  },
  {
   "cell_type": "code",
   "execution_count": null,
   "id": "48acb58f-85b3-41ce-a3f0-a5e9442af137",
   "metadata": {},
   "outputs": [],
   "source": []
  }
 ],
 "metadata": {
  "kernelspec": {
   "display_name": "Python 3 (ipykernel)",
   "language": "python",
   "name": "python3"
  },
  "language_info": {
   "codemirror_mode": {
    "name": "ipython",
    "version": 3
   },
   "file_extension": ".py",
   "mimetype": "text/x-python",
   "name": "python",
   "nbconvert_exporter": "python",
   "pygments_lexer": "ipython3",
   "version": "3.12.1"
  }
 },
 "nbformat": 4,
 "nbformat_minor": 5
}
