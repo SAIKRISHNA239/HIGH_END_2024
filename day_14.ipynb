{
 "cells": [
  {
   "cell_type": "code",
   "execution_count": 1,
   "id": "f8252ee8-299d-473b-84b8-5caec99e4088",
   "metadata": {},
   "outputs": [
    {
     "name": "stdout",
     "output_type": "stream",
     "text": [
      "-1\n"
     ]
    }
   ],
   "source": [
    "def mn_coins(arr,tar):\n",
    "    arr.sort()\n",
    "    res=[]\n",
    "    def go_back(rem,lst,start):\n",
    "        if rem==0:\n",
    "            res.append(lst[:])\n",
    "            return\n",
    "        elif rem<0:\n",
    "            return \n",
    "        for i in range(start,len(arr)):\n",
    "            if arr[i]>rem:\n",
    "                break\n",
    "            lst.append(arr[i])\n",
    "            go_back(rem-arr[i],lst,i)\n",
    "            lst.pop()\n",
    "    go_back(tar,[],0)\n",
    "    return res\n",
    "x=mn_coins([3,4],5)\n",
    "mn=float('inf')\n",
    "for i in x:\n",
    "    mn=min(mn,len(i))\n",
    "if mn==float('inf'):\n",
    "    print(-1)\n",
    "else:\n",
    "    print(mn)"
   ]
  },
  {
   "cell_type": "code",
   "execution_count": 2,
   "id": "e9922360-653d-411a-8b22-48440e48e5aa",
   "metadata": {},
   "outputs": [
    {
     "name": "stdout",
     "output_type": "stream",
     "text": [
      "[0, 99999, 99999, 99999, 99999, 99999, 99999, 99999, 99999, 99999, 99999, 99999, 99999, 99999, 99999, 99999, 99999, 99999]\n",
      "[0, 1, 2, 1, 1, 1, 2, 2, 2, 2, 2, 3, 3, 3, 3, 3, 4, 4]\n"
     ]
    }
   ],
   "source": [
    "def min_coints(arr,tar):    \n",
    "    l=[99999]*(tar+1)\n",
    "    l[0]=0\n",
    "    print(l)\n",
    "    for i in range(1,tar+1):\n",
    "        for j in arr:\n",
    "            if i>=j:\n",
    "                l[i]=min(l[i],l[i-j]+1)\n",
    "    return l\n",
    "arr=[1,3,4,5]\n",
    "tar=17\n",
    "print(min_coints(arr,tar))"
   ]
  },
  {
   "cell_type": "code",
   "execution_count": 3,
   "id": "24c4bf2e-fa05-4a1f-818d-da8eb900b5f8",
   "metadata": {},
   "outputs": [
    {
     "name": "stdout",
     "output_type": "stream",
     "text": [
      "[0, 1, 2, 3, 4, 5, 6, 7, 8, 9, 10, 11, 12, 13, 14, 15, 16, 17]\n",
      "[0, 1, 2, 1, 1, 1, 2, 2, 2, 2, 2, 3, 3, 3, 3, 3, 4, 4]\n"
     ]
    }
   ],
   "source": [
    "a=[1,3,4,5]\n",
    "n=17\n",
    "l=[]\n",
    "for i in range(0,n+1):\n",
    "    l.append(i)  \n",
    "print(l)\n",
    "for i in range(1,n+1):\n",
    "    for j in a:\n",
    "        if i>=j:\n",
    "            l[i]=min(l[i],l[i-j]+1)\n",
    "\n",
    "print(l)"
   ]
  },
  {
   "cell_type": "code",
   "execution_count": 4,
   "id": "8c4c9af6-b23a-4193-8eb3-38f045fa3a34",
   "metadata": {},
   "outputs": [
    {
     "name": "stdout",
     "output_type": "stream",
     "text": [
      "49\n"
     ]
    }
   ],
   "source": [
    "heights= [1,8,6,2,5,4,8,3,7]\n",
    "\n",
    "l=0\n",
    "mx=0\n",
    "r=len(heights)-1\n",
    "while l<r:\n",
    "    \n",
    "    area=min(heights[l],heights[r])*(r-l)\n",
    "    mx=max(area,mx)   \n",
    "    \n",
    "    if heights[l]<heights[r]:\n",
    "        l+=1\n",
    "    else:\n",
    "        r-=1\n",
    "print(mx)\n"
   ]
  },
  {
   "cell_type": "code",
   "execution_count": 5,
   "id": "2049978d-fc9c-4f2d-9614-1fda828d7262",
   "metadata": {},
   "outputs": [
    {
     "name": "stdout",
     "output_type": "stream",
     "text": [
      "20\n"
     ]
    }
   ],
   "source": [
    "arr=[2,5,2,3,6,7,1,0,5,7]\n",
    "a=[0]*len(arr)\n",
    "b=[0]*len(arr)\n",
    "m=0\n",
    "m1=0\n",
    "for i in range(len(arr)):\n",
    "    if arr[i]>m:\n",
    "        m=arr[i]\n",
    "    a[i]=m\n",
    "for i in range(len(arr)-1,-1,-1):\n",
    "    if arr[i]>m1:\n",
    "        m1=arr[i]\n",
    "    b[i]=m1\n",
    "s=0\n",
    "for i in range(len(arr)):\n",
    "    s+=abs(min(b[i],a[i])-arr[i])\n",
    "print(s)"
   ]
  },
  {
   "cell_type": "code",
   "execution_count": 6,
   "id": "0bfe7788-39b3-4eeb-ad92-4d4c82f9822c",
   "metadata": {},
   "outputs": [
    {
     "name": "stdout",
     "output_type": "stream",
     "text": [
      "12\n"
     ]
    }
   ],
   "source": [
    "def fun(l):\n",
    "    x=[]\n",
    "    for i in range(len(l)):\n",
    "        if i==0:\n",
    "            x.append(l[i])\n",
    "        else:\n",
    "            if l[i]>x[i-1]:\n",
    "                x.append(l[i])\n",
    "            else:\n",
    "                x.append(x[i-1])\n",
    "    return x\n",
    "l=[4,3,4,5,6,1,0,6,7]\n",
    "x=fun(l)\n",
    "s=l[::-1]\n",
    "y=fun(s)\n",
    "res=0\n",
    "for i in range(len(l)):\n",
    "    res+=min(x[i],y[i])-l[i]\n",
    "print(res)"
   ]
  },
  {
   "cell_type": "code",
   "execution_count": 7,
   "id": "205c7945-283d-4854-ad77-22c60e0da8be",
   "metadata": {},
   "outputs": [
    {
     "name": "stdout",
     "output_type": "stream",
     "text": [
      "-1\n"
     ]
    }
   ],
   "source": [
    "def min_coins(coins,tar):\n",
    "    l=[[0]*(tar+1) for i in range(len(arr)+1)]\n",
    "    for i in range(len(arr)+1):\n",
    "        l[i][0]=0\n",
    "    for j in range(1,tar+1):\n",
    "        l[0][j]=9999\n",
    "    for i in range(1,len(arr)+1):\n",
    "        for j in range(1,tar+1):\n",
    "            if arr[i-1]<=j:\n",
    "                l[i][j]=min(l[i-1][j],1+l[i][j-arr[i-1]])\n",
    "            else:\n",
    "                l[i][j]=l[i-1][j]\n",
    "    return l[len(arr)][tar]  if not 9999 else -1\n",
    "arr=[3,4]\n",
    "tar=5\n",
    "print(min_coins(arr,tar)) "
   ]
  },
  {
   "cell_type": "code",
   "execution_count": 31,
   "id": "094e3535-d524-48b1-9e55-9d6036636d7e",
   "metadata": {},
   "outputs": [
    {
     "name": "stdout",
     "output_type": "stream",
     "text": [
      "7\n"
     ]
    }
   ],
   "source": [
    "def paths(m,n):\n",
    "    if m==1 and n==2:\n",
    "        return 0\n",
    "    elif m==2 and m==1:\n",
    "        return 0\n",
    "    elif m==1 or n==1:\n",
    "        return 1\n",
    "    elif m==0 or n==0:\n",
    "        return 0\n",
    "    \n",
    "    else:\n",
    "        return paths(m-1,n)+paths(m,n-1)\n",
    "print(paths(3,4))"
   ]
  },
  {
   "cell_type": "code",
   "execution_count": null,
   "id": "7b3e9470-ec8c-4f34-9120-ff1e034682d7",
   "metadata": {},
   "outputs": [],
   "source": []
  },
  {
   "cell_type": "code",
   "execution_count": 30,
   "id": "3b717a46-d570-4f58-93cd-28c88419cf19",
   "metadata": {},
   "outputs": [
    {
     "name": "stdout",
     "output_type": "stream",
     "text": [
      "3\n"
     ]
    }
   ],
   "source": [
    "def paths_dp(m,n):\n",
    "    l=[[1 if i==0 or j==0 else 0 for i in range(n)] for j in range(m)]\n",
    "    for i in range(1,m):\n",
    "        for j in range(1,n):\n",
    "            l[i][j]=l[i-1][j]+l[i][j-1]\n",
    "    return l[-1][-1]\n",
    "print(paths_dp(2,3))   "
   ]
  },
  {
   "cell_type": "code",
   "execution_count": 20,
   "id": "202e3fe8-841e-4d23-b6ee-0bf66c9c8158",
   "metadata": {},
   "outputs": [
    {
     "name": "stdout",
     "output_type": "stream",
     "text": [
      "286097760\n"
     ]
    }
   ],
   "source": [
    "m=24\n",
    "n=12\n",
    "dp=[[0]*n for i in range(m)]\n",
    "for i in range(m):\n",
    "    dp[i][0]=1\n",
    "for j in range(n):\n",
    "    dp[0][j]=1\n",
    "for i in range(1,m):\n",
    "    for j in range(1,n):\n",
    "        dp[i][j]=dp[i-1][j]+dp[i][j-1]\n",
    "print(dp[m-1][n-1])"
   ]
  },
  {
   "cell_type": "code",
   "execution_count": 65,
   "id": "0f08821a-b4ae-4c1c-819a-3bfdde466bc7",
   "metadata": {},
   "outputs": [
    {
     "name": "stdout",
     "output_type": "stream",
     "text": [
      "1\n"
     ]
    }
   ],
   "source": [
    "def paths(m,n,c):\n",
    "\n",
    "    if i<0 or j<0 or i>=m or j>=n:\n",
    "        return c\n",
    "    if i==m-1 or j==n-1:\n",
    "        c+=1\n",
    "        return c\n",
    "    visi.add((i,j))\n",
    "    if((i-1,j) not in visi):\n",
    "        c=paths(i-1,j,c)\n",
    "    if((i+1,j) not in visi):\n",
    "        c=paths(i+1,j)\n",
    "    if((i,j-1) not in visi):\n",
    "        c=paths(i,j-1,c)\n",
    "    if((i,j+1) not in visi):\n",
    "        \n",
    "        c=paths(i,j+1)\n",
    "\n",
    "m=4\n",
    "n=3\n",
    "print(paths(m,n,0))        "
   ]
  },
  {
   "cell_type": "code",
   "execution_count": null,
   "id": "0e6f04d5-737d-4ff4-85ee-70749de6cc13",
   "metadata": {},
   "outputs": [],
   "source": []
  },
  {
   "cell_type": "code",
   "execution_count": null,
   "id": "0d88db51-3ce1-41c3-bd5d-3e7edc606854",
   "metadata": {},
   "outputs": [],
   "source": []
  },
  {
   "cell_type": "code",
   "execution_count": null,
   "id": "a6ed6b0c-ded5-4b5f-ae78-fbd4ca7d2239",
   "metadata": {},
   "outputs": [],
   "source": []
  },
  {
   "cell_type": "code",
   "execution_count": null,
   "id": "8293ccb7-38fc-4324-8f75-60b2eb3bb713",
   "metadata": {},
   "outputs": [],
   "source": []
  },
  {
   "cell_type": "code",
   "execution_count": null,
   "id": "fc85b556-c23b-49d3-a345-fb0d9004a244",
   "metadata": {},
   "outputs": [],
   "source": []
  },
  {
   "cell_type": "code",
   "execution_count": null,
   "id": "1570316f-b8cc-4ae3-a11c-7b0209b8e764",
   "metadata": {},
   "outputs": [],
   "source": []
  },
  {
   "cell_type": "code",
   "execution_count": null,
   "id": "b310c1b8-e174-4e9c-81c3-b7fe962612e3",
   "metadata": {},
   "outputs": [],
   "source": []
  },
  {
   "cell_type": "code",
   "execution_count": null,
   "id": "54ab2a16-f72b-46bb-a9c2-51a19b59a25e",
   "metadata": {},
   "outputs": [],
   "source": []
  },
  {
   "cell_type": "code",
   "execution_count": null,
   "id": "df4de143-5f9a-481f-8376-6d63db38ad70",
   "metadata": {},
   "outputs": [],
   "source": []
  },
  {
   "cell_type": "code",
   "execution_count": null,
   "id": "3d0647b1-c8c6-46d0-9439-6e35fc20163d",
   "metadata": {},
   "outputs": [],
   "source": []
  }
 ],
 "metadata": {
  "kernelspec": {
   "display_name": "Python 3 (ipykernel)",
   "language": "python",
   "name": "python3"
  },
  "language_info": {
   "codemirror_mode": {
    "name": "ipython",
    "version": 3
   },
   "file_extension": ".py",
   "mimetype": "text/x-python",
   "name": "python",
   "nbconvert_exporter": "python",
   "pygments_lexer": "ipython3",
   "version": "3.12.1"
  }
 },
 "nbformat": 4,
 "nbformat_minor": 5
}
