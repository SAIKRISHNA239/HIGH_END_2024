{
 "cells": [
  {
   "cell_type": "markdown",
   "id": "2d2084d6",
   "metadata": {},
   "source": [
    "# no.of consecutive letters"
   ]
  },
  {
   "cell_type": "code",
   "execution_count": 1,
   "id": "d1f9913f",
   "metadata": {},
   "outputs": [
    {
     "name": "stdout",
     "output_type": "stream",
     "text": [
      " a3b2a4d3b1\n"
     ]
    }
   ],
   "source": [
    "s=\"aaabbaaaadddb\"\n",
    "res=\" \"\n",
    "c=1\n",
    "for i in range(len(s)-1):\n",
    "    if s[i]==s[i+1]:\n",
    "        c+=1\n",
    "    else:\n",
    "        res=res+s[i]+str(c)\n",
    "        c=1\n",
    "res=res+s[i+1]+str(c)\n",
    "print(res)"
   ]
  },
  {
   "cell_type": "markdown",
   "id": "24f85c5b",
   "metadata": {},
   "source": [
    "# No.of occurences for each element"
   ]
  },
  {
   "cell_type": "code",
   "execution_count": 2,
   "id": "ba23126e",
   "metadata": {},
   "outputs": [
    {
     "name": "stdout",
     "output_type": "stream",
     "text": [
      "3 - 4\n",
      "5 - 1\n",
      "4 - 2\n",
      "6 - 2\n",
      "7 - 2\n",
      "1 - 1\n",
      "2 - 1\n",
      "8 - 2\n"
     ]
    }
   ],
   "source": [
    "li=[3,5,4,3,6,7,1,2,4,3,3,7,6,8,8]\n",
    "l=[]\n",
    "for i in li:\n",
    "    if i not in l:\n",
    "        l.append(i)\n",
    "\n",
    "for i in l:\n",
    "    print(i, \"-\",li.count(i))"
   ]
  },
  {
   "cell_type": "markdown",
   "id": "d648c37c",
   "metadata": {},
   "source": [
    "# count of different type of characters in given string"
   ]
  },
  {
   "cell_type": "code",
   "execution_count": null,
   "id": "84838092",
   "metadata": {},
   "outputs": [],
   "source": [
    "str=input()\n",
    "lv,uv,lc,uc,d,s=0,0,0,0,0,0\n",
    "for i in str:\n",
    "    if i.isupper() :\n",
    "        if i in 'AEIOU':\n",
    "            uv+=1\n",
    "        else:\n",
    "            uc+=1\n",
    "    elif i.islower():\n",
    "        if i in 'aeiou':\n",
    "             lv+=1\n",
    "        else:\n",
    "             lc+=1\n",
    "    elif not i.isalnum():\n",
    "          s+=1\n",
    "    elif i.isdigit():\n",
    "          d+=1\n",
    "print(\"lv\",-lv)\n",
    "print(\"uv\",-uv)\n",
    "print(\"lc\",-lc)\n",
    "print(\"uc\",-uc)\n",
    "print(\"d\",-d)\n",
    "print(\"s\",-s)"
   ]
  },
  {
   "cell_type": "markdown",
   "id": "a5f7487b",
   "metadata": {},
   "source": [
    "# convert vowels to upper case in string "
   ]
  },
  {
   "cell_type": "code",
   "execution_count": 3,
   "id": "da1d8cc6",
   "metadata": {},
   "outputs": [
    {
     "name": "stdout",
     "output_type": "stream",
     "text": [
      "plAcEmEnts\n"
     ]
    }
   ],
   "source": [
    "s=\"placements\"\n",
    "res=\"\"\n",
    "for i in s:\n",
    "    if i in \"AEIOU\" or i in \"aeiou\":\n",
    "        res=res+i.upper()\n",
    "    else:\n",
    "        res=res+i.lower()\n",
    "print(res)"
   ]
  },
  {
   "cell_type": "markdown",
   "id": "727916e5",
   "metadata": {},
   "source": [
    "# adding the float and integer values from single input"
   ]
  },
  {
   "cell_type": "code",
   "execution_count": 13,
   "id": "47e29459",
   "metadata": {},
   "outputs": [
    {
     "name": "stdout",
     "output_type": "stream",
     "text": [
      "3.5 6 7 2 4 8 9 1 8.4\n",
      "sum of float values: 11.9\n",
      "sum of even int values: 20\n",
      "sum of odd int values: 17\n"
     ]
    }
   ],
   "source": [
    "li=list(input().split(\" \"))\n",
    "f,e,o=0,0,0\n",
    "for i in li:\n",
    "    if '.' in i:\n",
    "        f+=float(i)\n",
    "        continue\n",
    "    if int(i)%2==0:\n",
    "        e+=int(i)\n",
    "    if int(i)%2!=0:\n",
    "        o+=int(i)\n",
    "print(\"sum of float values:\",f)\n",
    "print(\"sum of even int values:\",e)\n",
    "print(\"sum of odd int values:\",o)"
   ]
  },
  {
   "cell_type": "markdown",
   "id": "b7eb235e",
   "metadata": {},
   "source": [
    "## Differentiation b/w int,float\n",
    " 1.int(a)==a: int\n",
    " 2.'.' in a: float   \n",
    " 3. int_value%1 = 0 but float_value%1 !=0'''"
   ]
  },
  {
   "cell_type": "markdown",
   "id": "09534b42",
   "metadata": {},
   "source": [
    "# count of numbers divisible by given number in given range\n",
    "## count of numbers divisible by given number in given range = high_range-low_range //given num"
   ]
  },
  {
   "cell_type": "code",
   "execution_count": null,
   "id": "0cabcde8",
   "metadata": {},
   "outputs": [],
   "source": [
    "a=int(input())\n",
    "b=int(input())\n",
    "c= ((b-a)+1)//7\n",
    "print(c)"
   ]
  },
  {
   "cell_type": "markdown",
   "id": "d61dddd4",
   "metadata": {},
   "source": [
    "# Prime or not"
   ]
  },
  {
   "cell_type": "code",
   "execution_count": null,
   "id": "b6e1748c",
   "metadata": {},
   "outputs": [],
   "source": [
    "def nprime(n): \n",
    "    for i in range(2,n//2):\n",
    "        if n%i==0:\n",
    "            return (nprime(n+1))\n",
    "    return n\n",
    "res=nprime(int(input()))\n",
    "print(res)"
   ]
  },
  {
   "cell_type": "markdown",
   "id": "a5b78844",
   "metadata": {},
   "source": [
    "# No.of prime digits in given number"
   ]
  },
  {
   "cell_type": "code",
   "execution_count": null,
   "id": "87acb734",
   "metadata": {},
   "outputs": [],
   "source": [
    "n=int(input())\n",
    "c=0\n",
    "while(n):\n",
    "    if n%10 in [2,3,5,7]:\n",
    "        c+=1\n",
    "    n=n//10\n",
    "print(c)"
   ]
  },
  {
   "cell_type": "markdown",
   "id": "271ae99c",
   "metadata": {},
   "source": [
    "# Valid password"
   ]
  },
  {
   "cell_type": "code",
   "execution_count": 7,
   "id": "e79ac46b",
   "metadata": {},
   "outputs": [
    {
     "name": "stdout",
     "output_type": "stream",
     "text": [
      "1234@abV\n",
      "-1\n"
     ]
    }
   ],
   "source": [
    "def valid_pass(inp):\n",
    "     di,up,lc,sp,val,s=0,0,0,0,0,0\n",
    "     if len(inp)<5:\n",
    "        return (8-len(inp))\n",
    "     else:\n",
    "        for i in inp:\n",
    "          if i.isdigit():\n",
    "              di+=1\n",
    "          if i.isupper():\n",
    "              up+=1\n",
    "          if i.islower():\n",
    "              lc+=1\n",
    "          if not i.isalnum():\n",
    "              sp+=1\n",
    "     if di==0:\n",
    "        val+=1\n",
    "     if up==0:\n",
    "        val+=1\n",
    "     if lc==0:\n",
    "        val+=1\n",
    "     if sp==0:\n",
    "        val+=1\n",
    "     if val!=0:\n",
    "        return val\n",
    "     else:\n",
    "        return -1\n",
    "inp=input()\n",
    "print(valid_pass(inp))\n"
   ]
  },
  {
   "cell_type": "markdown",
   "id": "3a14fa13",
   "metadata": {},
   "source": [
    "# Sorting"
   ]
  },
  {
   "cell_type": "code",
   "execution_count": 11,
   "id": "13fd18e2",
   "metadata": {},
   "outputs": [
    {
     "name": "stdout",
     "output_type": "stream",
     "text": [
      "1 3 5 7\n",
      "2 4 6\n",
      "[1, 2, 3, 4, 5, 6, 7]\n"
     ]
    }
   ],
   "source": [
    "l1=list(map(int,input().split(' ')))\n",
    "l2=list(map(int,input().split(' ')))\n",
    "res=[]\n",
    "i=0\n",
    "j=0\n",
    "while (i<len(l1) and j<len(l2)):\n",
    "    if l1[i]<l2[j]:\n",
    "        res.append(l1[i])\n",
    "        i+=1\n",
    "    else:\n",
    "        res.append(l2[j])\n",
    "        j+=1\n",
    "while(i<len(l1)):\n",
    "    res.append(l1[i])\n",
    "    i+=1\n",
    "while(j<len(l2)):\n",
    "    res.apend(l2[j])\n",
    "    j+=1\n",
    "print(res)"
   ]
  }
 ],
 "metadata": {
  "kernelspec": {
   "display_name": "Python 3 (ipykernel)",
   "language": "python",
   "name": "python3"
  },
  "language_info": {
   "codemirror_mode": {
    "name": "ipython",
    "version": 3
   },
   "file_extension": ".py",
   "mimetype": "text/x-python",
   "name": "python",
   "nbconvert_exporter": "python",
   "pygments_lexer": "ipython3",
   "version": "3.11.3"
  }
 },
 "nbformat": 4,
 "nbformat_minor": 5
}
